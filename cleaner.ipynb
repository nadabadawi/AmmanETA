{
 "cells": [
  {
   "cell_type": "markdown",
   "metadata": {},
   "source": [
    "### MAIN: Data Cleaner\n",
    "#### Choose clean non-pooled data only"
   ]
  },
  {
   "cell_type": "code",
   "execution_count": 5,
   "metadata": {},
   "outputs": [
    {
     "name": "stdout",
     "output_type": "stream",
     "text": [
      "Matching process completed. Check 'clean_trips.json' for results.\n"
     ]
    }
   ],
   "source": [
    "import json\n",
    "import pandas as pd\n",
    "\n",
    "# Function to convert time in seconds to floating-point seconds\n",
    "def convert_to_seconds(time, unit):\n",
    "    if unit == \"seconds\":\n",
    "        return float(time)\n",
    "    elif unit == \"minutes\":\n",
    "        return float(time) * 60  # Convert minutes to seconds\n",
    "\n",
    "# Step 1: Load the data from \"new.json\" with multiple JSON objects separated by new lines\n",
    "with open(\"new.json\", \"r\") as json_file:\n",
    "    new_data = [json.loads(line) for line in json_file]  # Read each line as a JSON object\n",
    "\n",
    "# Step 2: Load the data from \"pooling.csv\"\n",
    "pooling_data = pd.read_csv(\"anon_pooling_jan_24_amman.csv\")\n",
    "\n",
    "# Step 3: Filter pooling_data to only include records with the 'day' attribute set to '2024-01-31'\n",
    "filtered_pooling_data = pooling_data[pooling_data['day'] == '2024-01-31']\n",
    "\n",
    "output_file = \"pooling_by_day.csv\"\n",
    "filtered_pooling_data.to_csv(output_file, index=False)\n",
    "# with open(\"pooling_by_day.csv\", \"w\") as output_file:\n",
    "    # json.dump(filtered_pooling_data, output_file)\n"
   ]
  },
  {
   "cell_type": "code",
   "execution_count": 9,
   "metadata": {},
   "outputs": [
    {
     "name": "stdout",
     "output_type": "stream",
     "text": [
      "Matching process completed. Check 'clean_trips.json' for results.\n"
     ]
    }
   ],
   "source": [
    "import pandas as pd\n",
    "\n",
    "input_file = \"pooling_by_day.csv\"\n",
    "filtered_pooling_data = pd.read_csv(input_file)\n",
    "\n",
    "# Step 1: Load the data from \"new.json\" with multiple JSON objects separated by new lines\n",
    "with open(\"new.json\", \"r\") as json_file:\n",
    "    new_data = [json.loads(line) for line in json_file]  # Read each line as a JSON object\n",
    "\n",
    "output_file = \"clean_trips.json\"\n",
    "\n",
    "# Step 3: Initialize an empty list to store matched records\n",
    "# matched_records = []\n",
    "\n",
    "with open(output_file_path, 'w', encoding='utf-8') as output_file:\n",
    "# Step 4: Iterate over the data from \"new.json\"\n",
    "    for entry in new_data:\n",
    "        entry_time = entry[\"time\"]\n",
    "        entry_trip_id = entry[\"trip_id\"]\n",
    "        entry_driver_id = entry[\"driverID\"]\n",
    "\n",
    "        # Step 5: Search for a matching entry in \"pooling.csv\"\n",
    "        for _, row in filtered_pooling_data.iterrows():\n",
    "            pool_time = float(row[\"captain_engagement_time\"] * 60)\n",
    "            pool_trip_id = row[\"booking_id\"]\n",
    "            pool_driver_id = row[\"captain_id\"]\n",
    "\n",
    "            # Step 6: Check for trip_id, driver_id, and time margin of 5 seconds\n",
    "            if (entry_trip_id == pool_trip_id and\n",
    "                entry_driver_id == pool_driver_id and\n",
    "                abs(pool_time - entry_time) <= 5):\n",
    "                # If match found, add to matched_records\n",
    "                # matched_records.append(entry)\n",
    "                # with open(output_file_path, 'w', encoding='utf-8') as output_file:\n",
    "                #     output_file.write(entry)\n",
    "                json.dump(entry, output_file)\n",
    "                output_file.write(\"\\n\")\n",
    "                break\n",
    "\n",
    "# Step 7: Write the matched records to \"clean_trips.json\"\n",
    "# with open(\"clean_trips.json\", \"w\") as output_file:\n",
    "#     json.dump(matched_records, output_file)\n",
    "\n",
    "print(\"Matching process completed. Check 'clean_trips.json' for results.\")"
   ]
  }
 ],
 "metadata": {
  "kernelspec": {
   "display_name": "Python 3",
   "language": "python",
   "name": "python3"
  },
  "language_info": {
   "codemirror_mode": {
    "name": "ipython",
    "version": 3
   },
   "file_extension": ".py",
   "mimetype": "text/x-python",
   "name": "python",
   "nbconvert_exporter": "python",
   "pygments_lexer": "ipython3",
   "version": "3.11.7"
  }
 },
 "nbformat": 4,
 "nbformat_minor": 2
}
