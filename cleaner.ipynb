{
 "cells": [
  {
   "cell_type": "markdown",
   "metadata": {},
   "source": [
    "## Main: Data Cleaner\n",
    "### Choose clean non-pooled data only"
   ]
  },
  {
   "cell_type": "code",
   "execution_count": 3,
   "metadata": {},
   "outputs": [
    {
     "name": "stdout",
     "output_type": "stream",
     "text": [
      "Matching process completed. Check 'clean_trips.json' for results.\n"
     ]
    }
   ],
   "source": [
    "import pandas as pd\n",
    "import json\n",
    "\n",
    "clean_file_path = \"clean_trips.json\"\n",
    "pooling_data = pd.read_csv(\"careems data/anon_pooling_jan_24_amman.csv\")\n",
    "\n",
    "filtered_pooling_data = pooling_data[pooling_data['day'] == '2024-01-31']\n",
    "\n",
    "\n",
    "with open(\"fixed_traj_new.json\", \"r\") as json_traj_file:\n",
    "    new_data = [json.loads(line) for line in json_traj_file]  #read each line as a JSON object\n",
    "\n",
    "\n",
    "\n",
    "with open(clean_file_path, 'w', encoding='utf-8') as clean_file :\n",
    "    for entry in new_data:\n",
    "        entry_time = entry[\"time\"]\n",
    "        entry_trip_id = entry[\"trip_id\"]\n",
    "        entry_driver_id = entry[\"driverID\"]\n",
    "                    \n",
    "        for _, row in filtered_pooling_data.iterrows():\n",
    "            pool_time = float(row[\"captain_engagement_time\"] * 60)\n",
    "            pool_trip_id = row[\"booking_id\"]\n",
    "            pool_driver_id = row[\"captain_id\"]\n",
    "            time_diff= pool_time - entry_time\n",
    "\n",
    "            #adding time difference to entry\n",
    "            entry_with_time_diff = entry.copy()  \n",
    "            entry_with_time_diff[\"time_diff\"] = time_diff  \n",
    "\n",
    "            #writing good trips to clean file (same trip and driver id and >5 sec time diff)\n",
    "            if entry_trip_id == pool_trip_id and entry_driver_id == pool_driver_id and abs(time_diff) <= 5:\n",
    "                json.dump(entry_with_time_diff, clean_file)\n",
    "                clean_file.write(\"\\n\")\n",
    "                break\n",
    "                       \n",
    "\n",
    "print(\"Matching process completed. Check 'clean_trips.json' for results.\")"
   ]
  },
  {
   "cell_type": "markdown",
   "metadata": {},
   "source": [
    "### Get unclean trips"
   ]
  },
  {
   "cell_type": "code",
   "execution_count": 4,
   "metadata": {},
   "outputs": [],
   "source": [
    "import json\n",
    "\n",
    "def find_unmatched_trips(new_file_path, clean_file_path, output_file_path):\n",
    "    #read data from two JSON files\n",
    "    new_trips = []\n",
    "    with open(new_file_path, 'r') as new_file:\n",
    "        for line in new_file:\n",
    "            new_trips.append(json.loads(line))\n",
    "\n",
    "    clean_trips = []\n",
    "    with open(clean_file_path, 'r') as clean_file:\n",
    "        for line in clean_file:\n",
    "            clean_trips.append(json.loads(line))\n",
    "\n",
    "    #extract trip IDs from clean_trips\n",
    "    clean_trip_ids = {trip['trip_id'] for trip in clean_trips}\n",
    "\n",
    "    #extract captain engagement times from filtered_pooling_data\n",
    "    captain_engagement_times = {row['booking_id']: float(row['captain_engagement_time'] * 60) for _, row in filtered_pooling_data.iterrows()}\n",
    "\n",
    "\n",
    "    unmatched_trips = []\n",
    "    for trip in new_trips:\n",
    "        if trip['trip_id'] not in clean_trip_ids:\n",
    "            trip_id = trip['trip_id']\n",
    "            if trip_id in captain_engagement_times:\n",
    "                \n",
    "                engagement_time = captain_engagement_times[trip_id]\n",
    "                traj_time = trip['time']\n",
    "                time_diff= engagement_time - traj_time\n",
    "\n",
    "                trip['time_diff'] = time_diff\n",
    "            \n",
    "            unmatched_trips.append(trip)\n",
    "\n",
    "\n",
    "    with open(output_file_path, 'w') as output_file:\n",
    "        for trip in unmatched_trips:\n",
    "            json.dump(trip, output_file)\n",
    "            output_file.write('\\n')\n",
    "\n",
    "\n",
    "traj_file_path = 'fixed_traj_new.json'\n",
    "clean_file_path = 'clean_trips.json'\n",
    "unclean_file_path = 'unclean_trips.json'\n",
    "\n",
    "\n",
    "find_unmatched_trips(traj_file_path, clean_file_path, unclean_file_path)"
   ]
  }
 ],
 "metadata": {
  "kernelspec": {
   "display_name": "Python 3",
   "language": "python",
   "name": "python3"
  },
  "language_info": {
   "codemirror_mode": {
    "name": "ipython",
    "version": 3
   },
   "file_extension": ".py",
   "mimetype": "text/x-python",
   "name": "python",
   "nbconvert_exporter": "python",
   "pygments_lexer": "ipython3",
   "version": "3.11.7"
  }
 },
 "nbformat": 4,
 "nbformat_minor": 2
}
