{
 "cells": [
  {
   "cell_type": "code",
   "execution_count": 1,
   "metadata": {},
   "outputs": [
    {
     "name": "stdout",
     "output_type": "stream",
     "text": [
      "Order found:\n",
      "{'order_id': '9c8cf05583658a04746329362ab5877729dcc02a923c45c5ad4ee65062693b24', 'order_type': 'food', 'pick_up_zone': 'Amman - Amman - Jubaiha', 'drop_off_zone': 'Amman - Amman - Swilih', 'order_received_timestamp': '2024-01-31 13:43:29.000', 'order_status': 'delivered', 'cancellation_type': '', 'initial_eta': '43', 'upfront_eta': '35', 'acceptance_time': '0.3', 'delay_dispatch_time': '0.02', 'captain_assignment_time': '0.85', 'wait_time_at_merchant': '5.23', 'food_preparation_time': '12.28', 'time_to_customer': '17.42', 'wait_time_in_journey': '378', 'wait_time_at_customer': '539.17', 'captain_engagement_time': '568.0', 'delivery_time': '569.17', 'cancellation_time': '', 'pickup_longitude': '35.864', 'pickup_latitude': '32.028', 'distance_travelled_km': '80.02854919433594', 'captain_id': 'e752308848c7737c43da7a4670b5e2e87193bcaf91ee029b846936d5de249abd', 'booking_id': '0c8194930e3766b775ce5abe10a3aede7e8d2b8d55b3efcd5212c90fb15198f1', 'route_id': '1bbc04e021f7cce216b3864445085e2aefb5b43e2fcf72a6902a5408daf5944f', 'day': '2024-01-31', 'is_pooled': 'False'}\n"
     ]
    }
   ],
   "source": [
    "import csv\n",
    "\n",
    "def search_order_by_booking_id(file_path, booking_id):\n",
    "    with open(file_path, mode='r') as file:\n",
    "        csv_reader = csv.DictReader(file)\n",
    "        for row in csv_reader:\n",
    "            if row['booking_id'] == booking_id:\n",
    "                return row\n",
    "    return None\n",
    "\n",
    "# Example usage\n",
    "file_path = 'anon_pooling_jan_24_amman.csv'  # Replace with the actual file path\n",
    "booking_id_to_search = '0c8194930e3766b775ce5abe10a3aede7e8d2b8d55b3efcd5212c90fb15198f1' # Replace with the booking_id you want to search\n",
    "\n",
    "result = search_order_by_booking_id(file_path, booking_id_to_search)\n",
    "if result:\n",
    "    print(\"Order found:\")\n",
    "    print(result)\n",
    "    # You can print specific fields like this:\n",
    "    # print(f\"Booking ID: {result['booking_id']}, Order Type: {result['order_type']}\")\n",
    "else:\n",
    "    print(\"Order not found\")\n"
   ]
  },
  {
   "cell_type": "code",
   "execution_count": 2,
   "metadata": {},
   "outputs": [
    {
     "name": "stdout",
     "output_type": "stream",
     "text": [
      "Order found:\n",
      "{'order_id': '9c8cf05583658a04746329362ab5877729dcc02a923c45c5ad4ee65062693b24', 'order_type': 'food', 'pick_up_zone': 'Amman - Amman - Jubaiha', 'drop_off_zone': 'Amman - Amman - Swilih', 'order_received_timestamp': '2024-01-31 13:43:29.000', 'order_status': 'delivered', 'cancellation_type': '', 'initial_eta': '43', 'upfront_eta': '35', 'acceptance_time': '0.3', 'delay_dispatch_time': '0.02', 'captain_assignment_time': '0.85', 'wait_time_at_merchant': '5.23', 'food_preparation_time': '12.28', 'time_to_customer': '17.42', 'wait_time_in_journey': '378', 'wait_time_at_customer': '539.17', 'captain_engagement_time': '568.0', 'delivery_time': '569.17', 'cancellation_time': '', 'pickup_longitude': '35.864', 'pickup_latitude': '32.028', 'distance_travelled_km': '80.02854919433594', 'captain_id': 'e752308848c7737c43da7a4670b5e2e87193bcaf91ee029b846936d5de249abd', 'booking_id': '0c8194930e3766b775ce5abe10a3aede7e8d2b8d55b3efcd5212c90fb15198f1', 'route_id': '1bbc04e021f7cce216b3864445085e2aefb5b43e2fcf72a6902a5408daf5944f', 'day': '2024-01-31', 'is_pooled': 'False'}\n",
      "Order dumped to found_order.csv\n"
     ]
    }
   ],
   "source": [
    "import csv\n",
    "\n",
    "def search_order_by_booking_id(file_path, booking_id):\n",
    "    with open(file_path, mode='r') as file:\n",
    "        csv_reader = csv.DictReader(file)\n",
    "        for row in csv_reader:\n",
    "            if row['booking_id'] == booking_id:\n",
    "                return row\n",
    "    return None\n",
    "\n",
    "def dump_row_to_csv(row, output_file_path):\n",
    "    if row:\n",
    "        with open(output_file_path, mode='w', newline='') as file:\n",
    "            csv_writer = csv.DictWriter(file, fieldnames=row.keys())\n",
    "            csv_writer.writeheader()\n",
    "            csv_writer.writerow(row)\n",
    "\n",
    "# Example usage\n",
    "file_path = 'anon_pooling_jan_24_amman.csv'  # Replace with the actual file path\n",
    "booking_id_to_search = '0c8194930e3766b775ce5abe10a3aede7e8d2b8d55b3efcd5212c90fb15198f1' # Replace with the booking_id you want to search\n",
    "output_file_path = 'found_order.csv'  # Replace with the desired output file path\n",
    "\n",
    "result = search_order_by_booking_id(file_path, booking_id_to_search)\n",
    "if result:\n",
    "    print(\"Order found:\")\n",
    "    print(result)\n",
    "    dump_row_to_csv(result, output_file_path)\n",
    "    print(f\"Order dumped to {output_file_path}\")\n",
    "else:\n",
    "    print(\"Order not found\")\n"
   ]
  }
 ],
 "metadata": {
  "kernelspec": {
   "display_name": "Python 3",
   "language": "python",
   "name": "python3"
  },
  "language_info": {
   "codemirror_mode": {
    "name": "ipython",
    "version": 3
   },
   "file_extension": ".py",
   "mimetype": "text/x-python",
   "name": "python",
   "nbconvert_exporter": "python",
   "pygments_lexer": "ipython3",
   "version": "3.11.9"
  }
 },
 "nbformat": 4,
 "nbformat_minor": 2
}
