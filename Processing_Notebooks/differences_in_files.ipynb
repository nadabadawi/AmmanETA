{
 "cells": [
  {
   "cell_type": "code",
   "execution_count": 2,
   "metadata": {},
   "outputs": [
    {
     "name": "stdout",
     "output_type": "stream",
     "text": [
      "CSV file created for trips in pooling but not in traj: pooling_not_in_traj.csv\n",
      "CSV file created for trips in traj but not in pooling: traj_not_in_pooling.csv\n"
     ]
    }
   ],
   "source": [
    "import csv\n",
    "import json\n",
    "import pandas as pd\n",
    "\n",
    "# Load dummy_pooling.csv\n",
    "dummy_pooling_file = 'Pooling_Output/sorted_pooling_jan_31_all_trips.csv'\n",
    "dummy_pooling = pd.read_csv(dummy_pooling_file)\n",
    "\n",
    "# Load dummy_traj.json\n",
    "dummy_traj_file = 'original_traj_mapped.json'\n",
    "dummy_traj = []\n",
    "\n",
    "with open(dummy_traj_file, 'r') as f:\n",
    "    for line in f:\n",
    "        try:\n",
    "            trip = json.loads(line.strip())\n",
    "            dummy_traj.append(trip)\n",
    "        except json.JSONDecodeError:\n",
    "            continue  # Skip lines that are not valid JSON\n",
    "\n",
    "# Extract trip_ids from dummy_traj\n",
    "traj_trip_ids = {trip['trip_id'] for trip in dummy_traj}\n",
    "\n",
    "# Extract booking_ids from dummy_pooling\n",
    "pooling_trip_ids = set(dummy_pooling['booking_id'])\n",
    "\n",
    "# Trips in dummy_pooling but not in dummy_traj\n",
    "pooling_not_in_traj = dummy_pooling[~dummy_pooling['booking_id'].isin(traj_trip_ids)]\n",
    "pooling_not_in_traj_file = 'pooling_not_in_traj.csv'\n",
    "pooling_not_in_traj.to_csv(pooling_not_in_traj_file, index=False)\n",
    "\n",
    "# Trips in dummy_traj but not in dummy_pooling\n",
    "traj_not_in_pooling = [trip for trip in dummy_traj if trip['trip_id'] not in pooling_trip_ids]\n",
    "traj_not_in_pooling_file = 'traj_not_in_pooling.csv'\n",
    "\n",
    "# Save traj_not_in_pooling to CSV\n",
    "with open(traj_not_in_pooling_file, 'w', newline='') as f:\n",
    "    if traj_not_in_pooling:\n",
    "        writer = csv.DictWriter(f, fieldnames=traj_not_in_pooling[0].keys())\n",
    "        writer.writeheader()\n",
    "        writer.writerows(traj_not_in_pooling)\n",
    "\n",
    "print(f'CSV file created for trips in pooling but not in traj: {pooling_not_in_traj_file}')\n",
    "print(f'CSV file created for trips in traj but not in pooling: {traj_not_in_pooling_file}')\n"
   ]
  }
 ],
 "metadata": {
  "kernelspec": {
   "display_name": "Python 3",
   "language": "python",
   "name": "python3"
  },
  "language_info": {
   "codemirror_mode": {
    "name": "ipython",
    "version": 3
   },
   "file_extension": ".py",
   "mimetype": "text/x-python",
   "name": "python",
   "nbconvert_exporter": "python",
   "pygments_lexer": "ipython3",
   "version": "3.11.9"
  }
 },
 "nbformat": 4,
 "nbformat_minor": 2
}
